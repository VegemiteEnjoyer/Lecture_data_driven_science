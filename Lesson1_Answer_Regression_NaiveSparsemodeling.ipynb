{
  "cells": [
    {
      "cell_type": "markdown",
      "metadata": {
        "id": "view-in-github",
        "colab_type": "text"
      },
      "source": [
        "<a href=\"https://colab.research.google.com/github/VegemiteEnjoyer/Lecture_data_driven_science/blob/main/Lesson1_Answer_Regression_NaiveSparsemodeling.ipynb\" target=\"_parent\"><img src=\"https://colab.research.google.com/assets/colab-badge.svg\" alt=\"Open In Colab\"/></a>"
      ]
    },
    {
      "cell_type": "code",
      "metadata": {
        "id": "YioLwctICTzv",
        "colab": {
          "base_uri": "https://localhost:8080/"
        },
        "outputId": "f5f1ff1f-5ab3-4454-c1be-37f729ce552a",
        "tags": []
      },
      "source": [
        "clear()"
      ],
      "execution_count": null,
      "outputs": [
        {
          "output_type": "stream",
          "name": "stdout",
          "text": [
            "\u001b[H\u001b[2J"
          ]
        }
      ]
    },
    {
      "cell_type": "code",
      "metadata": {
        "id": "E3vZpGVjEGgm"
      },
      "source": [
        "# matplotlib inline\n",
        "import numpy as np\n",
        "from matplotlib import pyplot as plt"
      ],
      "execution_count": null,
      "outputs": []
    },
    {
      "cell_type": "code",
      "metadata": {
        "id": "sfTFOz7pERGB"
      },
      "source": [
        "# Artificial data generation\n",
        "# 人工データ生成\n",
        "\n",
        "N = 21 # # of samples\n",
        "a = 1\n",
        "X = np.linspace(-10, 10, N)  # -10, 10 to N equally divided data.\n",
        "                              # -10, 10までをN個等分割にデータを作る．\n",
        "\n",
        "noise_cov = 3\n",
        "noise = np.random.normal(0, noise_cov,[N])\n",
        "y = a * X + noise"
      ],
      "execution_count": null,
      "outputs": []
    },
    {
      "cell_type": "code",
      "metadata": {
        "id": "LuY4kkNuIT-U",
        "colab": {
          "base_uri": "https://localhost:8080/",
          "height": 472
        },
        "outputId": "1b622d50-8617-410f-b0e7-2e250b57606e"
      },
      "source": [
        "# Q1: Plot the artificial data.\n",
        "# 問１：人工データのプロットしてください。\n",
        "plt.plot(X,y,'r.')\n",
        "plt.axis('equal')\n",
        "plt.title('DATA')\n",
        "plt.xlabel('X')\n",
        "plt.ylabel('y')\n",
        "plt.show()"
      ],
      "execution_count": null,
      "outputs": [
        {
          "output_type": "display_data",
          "data": {
            "text/plain": [
              "<Figure size 640x480 with 1 Axes>"
            ],
            "image/png": "[encoded data removed]"
          },
          "metadata": {}
        }
      ]
    },
    {
      "cell_type": "code",
      "metadata": {
        "id": "_0SgpkLFkBz_"
      },
      "source": [
        "## #### Analyzing Artificial Data ######\n",
        "###### Loading libraries for analysis #####\n",
        "# 人工データの解析　~解析に用いるライブラリーの読み込み~\n",
        "from sklearn import linear_model # sklearn.linear_model.LinearRegression\n",
        "from sklearn.model_selection import LeaveOneOut # cross validation\n",
        "from sklearn.metrics import mean_squared_error # RMSE"
      ],
      "execution_count": null,
      "outputs": []
    },
    {
      "cell_type": "code",
      "source": [
        "## Q2 : Generate a linear model with and without intercept, respectively.\n",
        "# 問2 :　１次式のモデルのうち，切片があるモデルとないモデルをそれぞれ生成してください。\n",
        "reg_ax_b = linear_model.LinearRegression(fit_intercept=True) ## (option to generate a model with an intercept)\n",
        "                                                                              ## Hint: linear_model.LinearRegression, fit_intercept\n",
        "reg_ax = linear_model.LinearRegression(fit_intercept=False)##( option to generate a model with no intercept)"
      ],
      "metadata": {
        "id": "i__KD5q87mrn"
      },
      "execution_count": null,
      "outputs": []
    },
    {
      "cell_type": "code",
      "source": [
        "# Evaluate performance with K-partition cross validation\n",
        "# K分割交差検証（cross validation）で性能を評価する\n",
        "\n",
        "loo = LeaveOneOut() # Generating training and tes data set for leave one out cross validation\n",
        "MSE_ax   = {\"mean\": [], \"std\": []}\n",
        "MSE_ax_b = {\"mean\": [], \"std\": []}\n",
        "\n",
        "scores_ax   = []\n",
        "scores_ax_b = []"
      ],
      "metadata": {
        "id": "pIeQ6Q9S7kxA"
      },
      "execution_count": null,
      "outputs": []
    },
    {
      "cell_type": "code",
      "metadata": {
        "id": "d0YdfJaFHNTI",
        "colab": {
          "base_uri": "https://localhost:8080/"
        },
        "outputId": "777771ea-37e0-4b30-866e-dcb866fe2a84"
      },
      "source": [
        "# Leave one out cross validation data\n",
        "for train_index, test_index in loo.split(X):\n",
        "      #Test and Training data\n",
        "\n",
        "      # Q3: Print train_index and test_index using print and check the test and training data.\n",
        "      # 問3:　printをもちいて，train_index, test_indexをプリントし、テストデータとトレーニングデータを確認してください。\n",
        "      print(\"%s %s\" % (train_index, test_index))"
      ],
      "execution_count": null,
      "outputs": [
        {
          "output_type": "stream",
          "name": "stdout",
          "text": [
            "[ 1  2  3  4  5  6  7  8  9 10 11 12 13 14 15 16 17 18 19 20] [0]\n",
            "[ 0  2  3  4  5  6  7  8  9 10 11 12 13 14 15 16 17 18 19 20] [1]\n",
            "[ 0  1  3  4  5  6  7  8  9 10 11 12 13 14 15 16 17 18 19 20] [2]\n",
            "[ 0  1  2  4  5  6  7  8  9 10 11 12 13 14 15 16 17 18 19 20] [3]\n",
            "[ 0  1  2  3  5  6  7  8  9 10 11 12 13 14 15 16 17 18 19 20] [4]\n",
            "[ 0  1  2  3  4  6  7  8  9 10 11 12 13 14 15 16 17 18 19 20] [5]\n",
            "[ 0  1  2  3  4  5  7  8  9 10 11 12 13 14 15 16 17 18 19 20] [6]\n",
            "[ 0  1  2  3  4  5  6  8  9 10 11 12 13 14 15 16 17 18 19 20] [7]\n",
            "[ 0  1  2  3  4  5  6  7  9 10 11 12 13 14 15 16 17 18 19 20] [8]\n",
            "[ 0  1  2  3  4  5  6  7  8 10 11 12 13 14 15 16 17 18 19 20] [9]\n",
            "[ 0  1  2  3  4  5  6  7  8  9 11 12 13 14 15 16 17 18 19 20] [10]\n",
            "[ 0  1  2  3  4  5  6  7  8  9 10 12 13 14 15 16 17 18 19 20] [11]\n",
            "[ 0  1  2  3  4  5  6  7  8  9 10 11 13 14 15 16 17 18 19 20] [12]\n",
            "[ 0  1  2  3  4  5  6  7  8  9 10 11 12 14 15 16 17 18 19 20] [13]\n",
            "[ 0  1  2  3  4  5  6  7  8  9 10 11 12 13 15 16 17 18 19 20] [14]\n",
            "[ 0  1  2  3  4  5  6  7  8  9 10 11 12 13 14 16 17 18 19 20] [15]\n",
            "[ 0  1  2  3  4  5  6  7  8  9 10 11 12 13 14 15 17 18 19 20] [16]\n",
            "[ 0  1  2  3  4  5  6  7  8  9 10 11 12 13 14 15 16 18 19 20] [17]\n",
            "[ 0  1  2  3  4  5  6  7  8  9 10 11 12 13 14 15 16 17 19 20] [18]\n",
            "[ 0  1  2  3  4  5  6  7  8  9 10 11 12 13 14 15 16 17 18 20] [19]\n",
            "[ 0  1  2  3  4  5  6  7  8  9 10 11 12 13 14 15 16 17 18 19] [20]\n"
          ]
        }
      ]
    },
    {
      "cell_type": "code",
      "metadata": {
        "id": "DHvMh1vOHJVf",
        "colab": {
          "base_uri": "https://localhost:8080/"
        },
        "outputId": "00715b2e-d70e-41c2-d5c3-1e4ca18b4b6c"
      },
      "source": [
        "# main part: leave one out cross validation\n",
        "for train_index, test_index in loo.split(X):\n",
        "      #Test and Training data\n",
        "      X_train = X[train_index]\n",
        "      X_test  = X[test_index]\n",
        "      y_train, y_test = y[train_index], y[test_index]\n",
        "\n",
        "       ## Q4: Please train a model for linear regression using trainig data.\n",
        "       ##問４:　線形回帰のモデルをトレーニグデータを用いて学習してください。\n",
        "      # fit by Linear regression\n",
        "      reg_ax_b.fit(X_train[:, np.newaxis], y_train[:, np.newaxis])\n",
        "      reg_ax  .fit(X_train[:, np.newaxis], y_train[:, np.newaxis])\n",
        "\n",
        "      ## Q5: Using a linear regression model, make predictions about the test data.\n",
        "      ## 問５:　線形回帰のモデルを用いて、テストデータについて予測してください。\n",
        "      # predict\n",
        "      pred_ax_b = reg_ax_b.predict(X_test[:, np.newaxis])\n",
        "      pred_ax   = reg_ax.predict(X_test[:, np.newaxis])\n",
        "\n",
        "      scores_ax_b.append(mean_squared_error(y_test, pred_ax_b))\n",
        "      scores_ax.append((mean_squared_error(y_test, pred_ax)))\n",
        "\n",
        "MSE_ax_b[\"mean\"].append(np.mean(scores_ax_b))  # convert to positive\n",
        "MSE_ax  [\"mean\"].append(np.mean(scores_ax))\n",
        "\n",
        "print('Cross-validation error when y= ax+b as model: %.4f' % MSE_ax_b[\"mean\"][0])\n",
        "print('Cross-validation error when y= ax as model: %.4f' % MSE_ax[\"mean\"][0])\n",
        "#print('y= ax+bをモデルとしたときの交差検証誤差： %.4f' % MSE_ax_b[\"mean\"][0])\n",
        "#print('y= axをモデルとしたときの交差検証誤差： %.4f' % MSE_ax[\"mean\"][0])"
      ],
      "execution_count": null,
      "outputs": [
        {
          "output_type": "stream",
          "name": "stdout",
          "text": [
            "Cross-validation error when y= ax+b as model: 13.4962\n",
            "Cross-validation error when y= ax as model: 12.3866\n"
          ]
        }
      ]
    },
    {
      "cell_type": "code",
      "source": [],
      "metadata": {
        "id": "Yx6K8vhz9hSH"
      },
      "execution_count": null,
      "outputs": []
    }
  ],
  "metadata": {
    "colab": {
      "provenance": [],
      "include_colab_link": true
    },
    "kernelspec": {
      "name": "python3",
      "display_name": "Python 3"
    }
  },
  "nbformat": 4,
  "nbformat_minor": 0
}