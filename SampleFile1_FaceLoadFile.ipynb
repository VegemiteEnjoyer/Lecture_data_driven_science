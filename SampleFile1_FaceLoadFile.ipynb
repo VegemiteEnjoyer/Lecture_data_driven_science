{
  "cells": [
    {
      "cell_type": "markdown",
      "metadata": {
        "id": "view-in-github",
        "colab_type": "text"
      },
      "source": [
        "<a href=\"https://colab.research.google.com/github/VegemiteEnjoyer/Lecture_data_driven_science/blob/main/SampleFile1_FaceLoadFile.ipynb\" target=\"_parent\"><img src=\"https://colab.research.google.com/assets/colab-badge.svg\" alt=\"Open In Colab\"/></a>"
      ]
    },
    {
      "cell_type": "code",
      "execution_count": null,
      "metadata": {
        "id": "VMofrGeoB-ln"
      },
      "outputs": [],
      "source": [
        "import matplotlib.pyplot as plt\n",
        "import numpy as np\n",
        "import os\n",
        "import scipy.io\n",
        "plt.rcParams['figure.figsize'] = [10, 10]\n",
        "plt.rcParams.update({'font.size': 18})\n",
        "\n",
        "mat_contents = scipy.io.loadmat(os.path.join('..','DATA','allFaces.mat'))\n",
        "faces = mat_contents['faces']\n",
        "m = int(mat_contents['m'])\n",
        "n = int(mat_contents['n'])\n",
        "nfaces = np.ndarray.flatten(mat_contents['nfaces'])\n",
        "\n",
        "allPersons = np.zeros((n*6,m*6))\n",
        "count = 0\n",
        "\n",
        "for j in range(6):\n",
        "    for k in range(6):\n",
        "        allPersons[j*n : (j+1)*n, k*m : (k+1)*m] = np.reshape(faces[:,np.sum(nfaces[:count])],(m,n)).T\n",
        "        count += 1\n",
        "\n",
        "img = plt.imshow(allPersons)\n",
        "img.set_cmap('gray')\n",
        "plt.axis('off')\n",
        "plt.show()"
      ]
    },
    {
      "cell_type": "code",
      "execution_count": null,
      "metadata": {
        "id": "qNohygqaB-ln"
      },
      "outputs": [],
      "source": [
        "for person in range(len(nfaces)):\n",
        "    subset = faces[:,sum(nfaces[:person]) : sum(nfaces[:(person+1)])]\n",
        "    allFaces = np.zeros((n*8,m*8))\n",
        "\n",
        "    count = 0\n",
        "\n",
        "    for j in range(8):\n",
        "        for k in range(8):\n",
        "            if count < nfaces[person]:\n",
        "                allFaces[j*n:(j+1)*n,k*m:(k+1)*m] = np.reshape(subset[:,count],(m,n)).T\n",
        "                count += 1\n",
        "\n",
        "    img = plt.imshow(allFaces)\n",
        "    img.set_cmap('gray')\n",
        "    plt.axis('off')\n",
        "    plt.show()"
      ]
    }
  ],
  "metadata": {
    "kernelspec": {
      "display_name": "Python 3.9.6 64-bit",
      "language": "python",
      "name": "python3"
    },
    "language_info": {
      "codemirror_mode": {
        "name": "ipython",
        "version": 3
      },
      "file_extension": ".py",
      "mimetype": "text/x-python",
      "name": "python",
      "nbconvert_exporter": "python",
      "pygments_lexer": "ipython3",
      "version": "3.9.6"
    },
    "vscode": {
      "interpreter": {
        "hash": "31f2aee4e71d21fbe5cf8b01ff0e069b9275f58929596ceb00d14d90e3e16cd6"
      }
    },
    "colab": {
      "provenance": [],
      "include_colab_link": true
    }
  },
  "nbformat": 4,
  "nbformat_minor": 0
}